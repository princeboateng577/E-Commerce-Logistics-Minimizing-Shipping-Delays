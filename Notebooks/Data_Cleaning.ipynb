{
 "cells": [
  {
   "cell_type": "code",
   "execution_count": null,
   "id": "a85bbde5-3d4e-4db7-8340-5f4bc392b03f",
   "metadata": {},
   "outputs": [],
   "source": [
    "import pandas as pd\n",
    "import os\n",
    "import matplotlib.pyplot as plt\n",
    "import seaborn as sns\n"
   ]
  },
  {
   "cell_type": "code",
   "execution_count": null,
   "id": "810b0fb6-ae9b-4900-a0ff-d5c83386b254",
   "metadata": {},
   "outputs": [],
   "source": [
    "# Load raw data\n",
    "file_path = \"../Data/raw/incom2024_delay_example_dataset.csv\"\n",
    "\n",
    "data_log = pd.read_csv(file_path)\n",
    "display(data_log.head())\n",
    " "
   ]
  },
  {
   "cell_type": "code",
   "execution_count": null,
   "id": "5e730364-b340-42e3-b8c6-6d0d7a4845ba",
   "metadata": {},
   "outputs": [],
   "source": [
    "#Check for null values\n",
    "#data_log.isnull() #This returns a Dataframe with false values indicating that there are no missing or null values\n",
    "#data_log.isna().any()   # We use this to check for null values in each of the columns\n",
    "#daat_lo.isna().sum()  #We use this to estimate the number of null values in each column"
   ]
  },
  {
   "cell_type": "code",
   "execution_count": null,
   "id": "0633d8fc-bc18-4b5e-8e98-b33fbc9f09cb",
   "metadata": {},
   "outputs": [],
   "source": [
    "#Checking for duplicate columns\n",
    "#data_log.duplicated()"
   ]
  },
  {
   "cell_type": "code",
   "execution_count": null,
   "id": "1baa4bdb-7c36-4a93-bd5c-a8c4c4c0938d",
   "metadata": {},
   "outputs": [],
   "source": [
    "# data_log.set_option('display.max_row', None)\n",
    "#pd.set_option('display.max_columns',None)\n",
    "#display(data_log)"
   ]
  },
  {
   "cell_type": "code",
   "execution_count": null,
   "id": "e346d203-2cbf-4f3b-a069-7c6b3ed5d63f",
   "metadata": {},
   "outputs": [],
   "source": [
    "#Drop specific columns : The customer_\n",
    "data_log_1 = data_log.drop(columns=[\"customer_country\", \"customer_state\", \"order_state\", \"order_region\"], errors ='ignore')\n",
    "display(data_log_1.head())"
   ]
  },
  {
   "cell_type": "code",
   "execution_count": null,
   "id": "ebc916af-8e39-46fa-9f6f-e248a2363d39",
   "metadata": {},
   "outputs": [],
   "source": [
    "# Convert order_date to datetime\n",
    "data_log_1['order_date'] = pd.to_datetime(data_log_1['order_date'], errors='coerce', utc=True)\n",
    "\n",
    "# Drop rows where conversion failed (NaT values)\n",
    "data_log_1 = data_log_1.dropna(subset=['order_date'])\n",
    "\n",
    "# First extract time before modifying order_date\n",
    "data_log_1['order_time'] = data_log_1['order_date'].dt.time  # Extract time\n",
    "\n",
    "# Now extract the date (this step changes order_date to object)\n",
    "data_log_1['order_date_only'] = data_log_1['order_date'].dt.date  # Extract date\n",
    "\n",
    "# Show results\n",
    "print(data_log_1[['order_date', 'order_date_only', 'order_time']].head())\n",
    "\n",
    "\n",
    "\n",
    "\n"
   ]
  },
  {
   "cell_type": "code",
   "execution_count": null,
   "id": "6d736b07-e608-43ed-bc12-1ba73c4081d2",
   "metadata": {},
   "outputs": [],
   "source": [
    "# Ensure the 'shipping_date' column is in datetime format with UTC option \n",
    "data_log_1['shipping_date'] = pd.to_datetime(data_log_1['shipping_date'], errors='coerce', utc=True)\n",
    "\n",
    "# Drop rows where conversion failed (NaT values)\n",
    "data_log_1 = data_log_1.dropna(subset=['shipping_date'])\n",
    "\n",
    "# Now extract time before modifying shipping_date\n",
    "data_log_1['shipping_time'] = data_log_1['shipping_date'].dt.time  # Extract time\n",
    "\n",
    "# Now extract the date (this step changes shipping_date to object)\n",
    "data_log_1['shipping_date_only'] = data_log_1['shipping_date'].dt.date  # Extract date\n",
    "\n",
    "# Show results\n",
    "print(data_log_1[['shipping_date', 'shipping_date_only', 'shipping_time']].head())\n"
   ]
  },
  {
   "cell_type": "code",
   "execution_count": null,
   "id": "98bdacc6-d391-42ad-be9c-8f698374fce0",
   "metadata": {},
   "outputs": [],
   "source": [
    "display(data_log_1.head())"
   ]
  },
  {
   "cell_type": "code",
   "execution_count": null,
   "id": "fd2c63df-45a9-4665-8982-cceb3dbf1fd3",
   "metadata": {},
   "outputs": [],
   "source": [
    "# Save data_log_1 to CSV\n",
    "#data_log_1.to_csv(\"../Data/Cleaned/income2024_cleaned.csv\", index=False)\n",
    "#print(\"data_log_1 saved to income2024_cleaned.csv\")"
   ]
  },
  {
   "cell_type": "code",
   "execution_count": null,
   "id": "a7f2e5f1-5e37-4afe-8f77-c9459b6f206a",
   "metadata": {},
   "outputs": [],
   "source": [
    "# Dispalay file containing the description about the data \n",
    "\n",
    "file_path = \"../Data/raw/incom2024_delay_variable_description.csv\"\n",
    "\n",
    "data_desc = pd.read_csv(file_path)\n",
    "display(data_desc)\n",
    "\n"
   ]
  },
  {
   "cell_type": "code",
   "execution_count": null,
   "id": "85aebb0e-3baf-4f88-8494-e3fb5d419c6b",
   "metadata": {},
   "outputs": [],
   "source": [
    "data_log_1.columns # Standardizing columns"
   ]
  },
  {
   "cell_type": "code",
   "execution_count": null,
   "id": "35a0c027-e071-426e-b8b9-c66b7ec6263c",
   "metadata": {},
   "outputs": [],
   "source": [
    "data_log_1.info()"
   ]
  },
  {
   "cell_type": "code",
   "execution_count": null,
   "id": "7600c721-70de-4ec3-84f0-1ed0e1722407",
   "metadata": {},
   "outputs": [],
   "source": [
    "data_log_1.isnull().sum()"
   ]
  },
  {
   "cell_type": "markdown",
   "id": "2a4e3591-b9eb-46ea-ac66-4dea62c0d029",
   "metadata": {},
   "source": [
    "## UNIVARIATE ANALYSIS ## "
   ]
  },
  {
   "cell_type": "code",
   "execution_count": null,
   "id": "797e8402-af2e-46ec-8ed5-81e2e6423989",
   "metadata": {},
   "outputs": [],
   "source": [
    "#Separate numerical and categorical columns\n",
    "num_cols = data_log_1.select_dtypes(include=['float64', 'int64']).columns\n",
    "cat_cols = data_log_1.select_dtypes(include=['object']).columns"
   ]
  },
  {
   "cell_type": "code",
   "execution_count": null,
   "id": "9d074573-3900-4350-9fb2-971f581ad3c0",
   "metadata": {},
   "outputs": [],
   "source": [
    "# Summary statistics for numerical data\n",
    "print(\"\\nSummary statistics for numerical data: \")\n",
    "display(data_log_1[num_cols].describe())"
   ]
  },
  {
   "cell_type": "code",
   "execution_count": null,
   "id": "2eda83a5-5ac8-4c88-aef9-a8e4bcc7ddcf",
   "metadata": {},
   "outputs": [],
   "source": []
  },
  {
   "cell_type": "code",
   "execution_count": null,
   "id": "efd6a28e-38c2-4f39-a220-43c92a33c1e2",
   "metadata": {},
   "outputs": [],
   "source": [
    "#Value counts for categorical data\n",
    "print(\"\\nValue counts for categorical data: \")\n",
    "for col in cat_cols: \n",
    "    print(f\"\\n{col}:\\n\", data_log_1[col].value_counts())\n"
   ]
  },
  {
   "cell_type": "markdown",
   "id": "ce559ec5-28a6-4294-b3cf-16e4c761901a",
   "metadata": {},
   "source": [
    "## Visualization"
   ]
  },
  {
   "cell_type": "code",
   "execution_count": null,
   "id": "9b183645-8aa8-4ec7-bf86-daabc0bb7ab3",
   "metadata": {},
   "outputs": [],
   "source": [
    "# Histogram for numerical features\n",
    "# Histograms for numerical features\n",
    "for col in num_cols:\n",
    "    plt.figure(figsize=(8, 4))\n",
    "    sns.histplot(data_log_1[col], bins=30, kde=True)\n",
    "    plt.title(f\"Distribution of {col}\")\n",
    "    plt.xlabel(col)\n",
    "    plt.ylabel(\"Frequency\")\n",
    "    plt.show()\n"
   ]
  },
  {
   "cell_type": "code",
   "execution_count": null,
   "id": "98b4e99f-7d35-4e08-8818-91b833d5e2c4",
   "metadata": {},
   "outputs": [],
   "source": [
    "#Boxplots for numerical features: check for outliers\n",
    "for col in num_cols:\n",
    "    plt.figure9figsize=(10, 6)\n",
    "    sns.boxplot(x=data_log_1[col])\n",
    "    plt.title(f\"{col}\")\n",
    "    plt.show()"
   ]
  },
  {
   "cell_type": "code",
   "execution_count": null,
   "id": "5da87ad0-60f8-4cc6-b374-b0f98489b088",
   "metadata": {},
   "outputs": [],
   "source": [
    "for col in cat_cols:\n",
    "    plt.figure(figsize=(10, 5))\n",
    "    data_log_1[col].value_counts().nlargest(10).plot(kind='bar', color='skyblue')\n",
    "    plt.title(f\"{col}\")\n",
    "    plt.ylabel(\"Count\")\n",
    "    plt.xticks(rotation=45)\n",
    "    plt.show()"
   ]
  },
  {
   "cell_type": "markdown",
   "id": "c7335f9f-ba1c-4970-8860-86d78a97e450",
   "metadata": {},
   "source": [
    "## Bivariate Analysis ##\n"
   ]
  },
  {
   "cell_type": "code",
   "execution_count": null,
   "id": "29f7ab2b-8f3f-4619-9172-a519ffcf84fc",
   "metadata": {},
   "outputs": [],
   "source": []
  },
  {
   "cell_type": "code",
   "execution_count": null,
   "id": "226fa20c-5664-4695-bebd-c27a0dd1a824",
   "metadata": {},
   "outputs": [],
   "source": []
  },
  {
   "cell_type": "code",
   "execution_count": null,
   "id": "49f56163-4d1c-45f5-b944-01aa4fcd85a6",
   "metadata": {},
   "outputs": [],
   "source": []
  },
  {
   "cell_type": "code",
   "execution_count": null,
   "id": "3c5c2d94-006c-40a7-a5e1-caca6583f90f",
   "metadata": {},
   "outputs": [],
   "source": []
  }
 ],
 "metadata": {
  "kernelspec": {
   "display_name": "project1_venv",
   "language": "python",
   "name": "project1_venv"
  },
  "language_info": {
   "codemirror_mode": {
    "name": "ipython",
    "version": 3
   },
   "file_extension": ".py",
   "mimetype": "text/x-python",
   "name": "python",
   "nbconvert_exporter": "python",
   "pygments_lexer": "ipython3",
   "version": "3.12.3"
  }
 },
 "nbformat": 4,
 "nbformat_minor": 5
}
