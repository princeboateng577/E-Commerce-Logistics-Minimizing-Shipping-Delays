{
 "cells": [
  {
   "cell_type": "code",
   "execution_count": null,
   "id": "c9f14ef8-32b4-41e1-a52f-32593c839101",
   "metadata": {},
   "outputs": [],
   "source": [
    "import pandas as pd\n",
    "import os\n",
    "import matplotlib.pyplot as plt\n",
    "import seaborn as sns"
   ]
  },
  {
   "cell_type": "code",
   "execution_count": null,
   "id": "be1b8266-d822-4817-9af8-cf55d59e7cf7",
   "metadata": {},
   "outputs": [],
   "source": [
    "# Load raw data\n",
    "file_path = \"../Data/Cleaned/income2024_cleaned.csv\"\n",
    "\n",
    "data_log_1 = pd.read_csv(file_path)\n",
    "display(data_log_1.head())\n"
   ]
  },
  {
   "cell_type": "code",
   "execution_count": null,
   "id": "3d25fc80-6759-4757-bd52-8e2a53e7c55a",
   "metadata": {},
   "outputs": [],
   "source": [
    "#Drop specific columns : The customer_\n",
    "data_log_2 = data_log_1.drop(columns=[\"shipping_daet\", \"oder_date\"], errors ='ignore')\n",
    "display(data_log_2.head())"
   ]
  },
  {
   "cell_type": "code",
   "execution_count": null,
   "id": "66a2294e-1478-40a3-9643-effea4dc5bab",
   "metadata": {},
   "outputs": [],
   "source": [
    "#Separate numerical and categorical columns\n",
    "num_cols = data_log_2.select_dtypes(include=['float64', 'int64']).columns\n",
    "cat_cols = data_log_2.select_dtypes(include=['object']).columns"
   ]
  },
  {
   "cell_type": "code",
   "execution_count": null,
   "id": "00a5b377-3a92-4809-9d41-07d7bd6f7287",
   "metadata": {},
   "outputs": [],
   "source": [
    "# Summary statistics for numerical data\n",
    "print(\"\\nSummary statistics for numerical data: \")\n",
    "display(data_log_2[num_cols].describe())"
   ]
  },
  {
   "cell_type": "code",
   "execution_count": null,
   "id": "6439fc58-acf9-4306-87e5-6cd6666555b0",
   "metadata": {},
   "outputs": [],
   "source": [
    "#Value counts for categorical data\n",
    "print(\"\\nValue counts for categorical data: \")\n",
    "for col in cat_cols: \n",
    "    print(f\"\\n{col}:\\n\", data_log_2[col].value_counts())"
   ]
  },
  {
   "cell_type": "code",
   "execution_count": null,
   "id": "418821da-b344-447b-8c2f-7e658b10f94b",
   "metadata": {},
   "outputs": [],
   "source": [
    "# Histogram for numerical features\n",
    "# Histograms for numerical features\n",
    "for col in num_cols:\n",
    "    plt.figure(figsize=(8, 4))\n",
    "    sns.histplot(data_log_1[col], bins=30, kde=True)\n",
    "    plt.title(f\"Distribution of {col}\")\n",
    "    plt.xlabel(col)\n",
    "    plt.ylabel(\"Frequency\")\n",
    "    plt.show()"
   ]
  },
  {
   "cell_type": "code",
   "execution_count": null,
   "id": "28c9bbe5-74ed-4d7e-acb5-8c71d67af28a",
   "metadata": {},
   "outputs": [],
   "source": [
    "#Boxplots for numerical features: check for outliers\n",
    "for col in num_cols:\n",
    "    plt.figure9figsize=(10, 6)\n",
    "    sns.boxplot(x=data_log_1[col])\n",
    "    plt.title(f\"{col}\")\n",
    "    plt.show()"
   ]
  },
  {
   "cell_type": "code",
   "execution_count": null,
   "id": "295b1506-0a59-4e83-8134-70cab051faf8",
   "metadata": {},
   "outputs": [],
   "source": [
    "for col in cat_cols:\n",
    "    plt.figure(figsize=(10, 5))\n",
    "    data_log_1[col].value_counts().nlargest(10).plot(kind='bar', color='skyblue')\n",
    "    plt.title(f\"{col}\")\n",
    "    plt.ylabel(\"Count\")\n",
    "    plt.xticks(rotation=45)\n",
    "    plt.show()"
   ]
  },
  {
   "cell_type": "code",
   "execution_count": null,
   "id": "a178d981-c071-499d-9150-973892ee0c65",
   "metadata": {},
   "outputs": [],
   "source": []
  }
 ],
 "metadata": {
  "kernelspec": {
   "display_name": "project1_venv",
   "language": "python",
   "name": "project1_venv"
  },
  "language_info": {
   "codemirror_mode": {
    "name": "ipython",
    "version": 3
   },
   "file_extension": ".py",
   "mimetype": "text/x-python",
   "name": "python",
   "nbconvert_exporter": "python",
   "pygments_lexer": "ipython3",
   "version": "3.12.3"
  }
 },
 "nbformat": 4,
 "nbformat_minor": 5
}
